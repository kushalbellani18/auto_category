{
 "cells": [
  {
   "cell_type": "code",
   "execution_count": 2,
   "id": "3e0f5408",
   "metadata": {},
   "outputs": [],
   "source": [
    "import pandas as pd\n",
    "import numpy as np\n",
    "from tqdm import tqdm\n",
    "\n",
    "tqdm.pandas()"
   ]
  },
  {
   "cell_type": "code",
   "execution_count": 3,
   "id": "80c2b7f2",
   "metadata": {},
   "outputs": [],
   "source": [
    "df = pd.read_pickle(\"Datasets/pickle/embeddings_cleaned.pkl\")"
   ]
  },
  {
   "cell_type": "code",
   "execution_count": 4,
   "id": "850f6ccb",
   "metadata": {},
   "outputs": [
    {
     "data": {
      "text/html": [
       "<div>\n",
       "<style scoped>\n",
       "    .dataframe tbody tr th:only-of-type {\n",
       "        vertical-align: middle;\n",
       "    }\n",
       "\n",
       "    .dataframe tbody tr th {\n",
       "        vertical-align: top;\n",
       "    }\n",
       "\n",
       "    .dataframe thead th {\n",
       "        text-align: right;\n",
       "    }\n",
       "</style>\n",
       "<table border=\"1\" class=\"dataframe\">\n",
       "  <thead>\n",
       "    <tr style=\"text-align: right;\">\n",
       "      <th></th>\n",
       "      <th>_id</th>\n",
       "      <th>subject_content_text_cleaned</th>\n",
       "      <th>minilm_embeddings_cleaned</th>\n",
       "    </tr>\n",
       "  </thead>\n",
       "  <tbody>\n",
       "    <tr>\n",
       "      <th>93485</th>\n",
       "      <td>PMOPG/D/2023/0015581</td>\n",
       "      <td>pgrj</td>\n",
       "      <td>[-0.09041333943605423, 0.013560930266976357, -...</td>\n",
       "    </tr>\n",
       "    <tr>\n",
       "      <th>149941</th>\n",
       "      <td>PMOPG/D/2023/0023231</td>\n",
       "      <td>pgrj</td>\n",
       "      <td>[-0.09041333943605423, 0.013560930266976357, -...</td>\n",
       "    </tr>\n",
       "    <tr>\n",
       "      <th>137640</th>\n",
       "      <td>DEAID/E/2023/0005953</td>\n",
       "      <td>ट्रांसफर में व्याप्त भ्रष्टाचार छुपाने हेतु से...</td>\n",
       "      <td>[0.06316458433866501, 0.014884322881698608, -0...</td>\n",
       "    </tr>\n",
       "    <tr>\n",
       "      <th>26768</th>\n",
       "      <td>DOEXP/E/2023/0000087</td>\n",
       "      <td>expenditure  pay upgradation  anomalies in pay...</td>\n",
       "      <td>[-0.06277257204055786, -0.006890749093145132, ...</td>\n",
       "    </tr>\n",
       "  </tbody>\n",
       "</table>\n",
       "</div>"
      ],
      "text/plain": [
       "                         _id  \\\n",
       "93485   PMOPG/D/2023/0015581   \n",
       "149941  PMOPG/D/2023/0023231   \n",
       "137640  DEAID/E/2023/0005953   \n",
       "26768   DOEXP/E/2023/0000087   \n",
       "\n",
       "                             subject_content_text_cleaned  \\\n",
       "93485                                                pgrj   \n",
       "149941                                               pgrj   \n",
       "137640  ट्रांसफर में व्याप्त भ्रष्टाचार छुपाने हेतु से...   \n",
       "26768   expenditure  pay upgradation  anomalies in pay...   \n",
       "\n",
       "                                minilm_embeddings_cleaned  \n",
       "93485   [-0.09041333943605423, 0.013560930266976357, -...  \n",
       "149941  [-0.09041333943605423, 0.013560930266976357, -...  \n",
       "137640  [0.06316458433866501, 0.014884322881698608, -0...  \n",
       "26768   [-0.06277257204055786, -0.006890749093145132, ...  "
      ]
     },
     "execution_count": 4,
     "metadata": {},
     "output_type": "execute_result"
    }
   ],
   "source": [
    "df.head(4)"
   ]
  },
  {
   "cell_type": "code",
   "execution_count": 5,
   "id": "b088d82f",
   "metadata": {},
   "outputs": [
    {
     "name": "stderr",
     "output_type": "stream",
     "text": [
      "100%|██████████████████████████████| 174784/174784 [00:00<00:00, 1141300.46it/s]\n"
     ]
    }
   ],
   "source": [
    "df[\"minilm_embeddings_len\"] = df[\"minilm_embeddings_cleaned\"].progress_apply(lambda row: len(row))"
   ]
  },
  {
   "cell_type": "code",
   "execution_count": 6,
   "id": "85f5ce0e",
   "metadata": {},
   "outputs": [
    {
     "data": {
      "text/plain": [
       "minilm_embeddings_len\n",
       "384    174784\n",
       "Name: count, dtype: int64"
      ]
     },
     "execution_count": 6,
     "metadata": {},
     "output_type": "execute_result"
    }
   ],
   "source": [
    "df.minilm_embeddings_len.value_counts()"
   ]
  },
  {
   "cell_type": "code",
   "execution_count": 7,
   "id": "f396d11f",
   "metadata": {},
   "outputs": [],
   "source": [
    "from sklearn.utils import shuffle\n",
    "\n",
    "df = shuffle(df)"
   ]
  },
  {
   "cell_type": "code",
   "execution_count": 8,
   "id": "40524453",
   "metadata": {},
   "outputs": [
    {
     "data": {
      "text/html": [
       "<div>\n",
       "<style scoped>\n",
       "    .dataframe tbody tr th:only-of-type {\n",
       "        vertical-align: middle;\n",
       "    }\n",
       "\n",
       "    .dataframe tbody tr th {\n",
       "        vertical-align: top;\n",
       "    }\n",
       "\n",
       "    .dataframe thead th {\n",
       "        text-align: right;\n",
       "    }\n",
       "</style>\n",
       "<table border=\"1\" class=\"dataframe\">\n",
       "  <thead>\n",
       "    <tr style=\"text-align: right;\">\n",
       "      <th></th>\n",
       "      <th>_id</th>\n",
       "      <th>subject_content_text_cleaned</th>\n",
       "      <th>minilm_embeddings_cleaned</th>\n",
       "      <th>minilm_embeddings_len</th>\n",
       "    </tr>\n",
       "  </thead>\n",
       "  <tbody>\n",
       "    <tr>\n",
       "      <th>171831</th>\n",
       "      <td>PMOPG/D/2023/0023139</td>\n",
       "      <td>frank</td>\n",
       "      <td>[-0.030974000692367554, 0.032949354499578476, ...</td>\n",
       "      <td>384</td>\n",
       "    </tr>\n",
       "    <tr>\n",
       "      <th>31022</th>\n",
       "      <td>MOSJE/E/2023/0000087</td>\n",
       "      <td>तकनीकी शिक्षा विभाग भोपाल के उच्च कार्यालय से ...</td>\n",
       "      <td>[0.0010111008305102587, 0.031157847493886948, ...</td>\n",
       "      <td>384</td>\n",
       "    </tr>\n",
       "    <tr>\n",
       "      <th>160363</th>\n",
       "      <td>PMOPG/E/2023/0025351</td>\n",
       "      <td>wwwmangaloreancom20yearoldstudentdiesafterbusr...</td>\n",
       "      <td>[0.03162650391459465, -0.016353311017155647, 0...</td>\n",
       "      <td>384</td>\n",
       "    </tr>\n",
       "    <tr>\n",
       "      <th>16378</th>\n",
       "      <td>GOVAS/I/2023/0000848</td>\n",
       "      <td>due to network issuecaller voice was not audib...</td>\n",
       "      <td>[-0.017278095707297325, -0.025179877877235413,...</td>\n",
       "      <td>384</td>\n",
       "    </tr>\n",
       "    <tr>\n",
       "      <th>148796</th>\n",
       "      <td>PMOPG/D/2023/0019729</td>\n",
       "      <td>pgsat</td>\n",
       "      <td>[-0.02158086933195591, -0.023720789700746536, ...</td>\n",
       "      <td>384</td>\n",
       "    </tr>\n",
       "    <tr>\n",
       "      <th>...</th>\n",
       "      <td>...</td>\n",
       "      <td>...</td>\n",
       "      <td>...</td>\n",
       "      <td>...</td>\n",
       "    </tr>\n",
       "    <tr>\n",
       "      <th>64590</th>\n",
       "      <td>MOLBR/E/2023/0004071</td>\n",
       "      <td>labour and employment  transfer related issues...</td>\n",
       "      <td>[-0.02575930580496788, -0.03641565889120102, -...</td>\n",
       "      <td>384</td>\n",
       "    </tr>\n",
       "    <tr>\n",
       "      <th>174159</th>\n",
       "      <td>CBODT/E/2023/0006100</td>\n",
       "      <td>central board of direct taxes income tax  dire...</td>\n",
       "      <td>[-0.03453265503048897, -0.008983409963548183, ...</td>\n",
       "      <td>384</td>\n",
       "    </tr>\n",
       "    <tr>\n",
       "      <th>28861</th>\n",
       "      <td>GOVGJ/E/2023/0000354</td>\n",
       "      <td>दवारका ज़िल्लाना  नायब ज़िल्ल्ला विकास अधिकारी...</td>\n",
       "      <td>[-0.027166463434696198, 0.060572899878025055, ...</td>\n",
       "      <td>384</td>\n",
       "    </tr>\n",
       "    <tr>\n",
       "      <th>111610</th>\n",
       "      <td>PMOPG/E/2023/0017854</td>\n",
       "      <td>i am a widow and i am sending my written compl...</td>\n",
       "      <td>[-0.024659985676407814, 0.04469205066561699, 0...</td>\n",
       "      <td>384</td>\n",
       "    </tr>\n",
       "    <tr>\n",
       "      <th>34350</th>\n",
       "      <td>GOVUP/E/2023/0001358</td>\n",
       "      <td>sadar preshit karywahi hetuuuu</td>\n",
       "      <td>[-0.06702282279729843, 0.15720179677009583, -0...</td>\n",
       "      <td>384</td>\n",
       "    </tr>\n",
       "  </tbody>\n",
       "</table>\n",
       "<p>174784 rows × 4 columns</p>\n",
       "</div>"
      ],
      "text/plain": [
       "                         _id  \\\n",
       "171831  PMOPG/D/2023/0023139   \n",
       "31022   MOSJE/E/2023/0000087   \n",
       "160363  PMOPG/E/2023/0025351   \n",
       "16378   GOVAS/I/2023/0000848   \n",
       "148796  PMOPG/D/2023/0019729   \n",
       "...                      ...   \n",
       "64590   MOLBR/E/2023/0004071   \n",
       "174159  CBODT/E/2023/0006100   \n",
       "28861   GOVGJ/E/2023/0000354   \n",
       "111610  PMOPG/E/2023/0017854   \n",
       "34350   GOVUP/E/2023/0001358   \n",
       "\n",
       "                             subject_content_text_cleaned  \\\n",
       "171831                                              frank   \n",
       "31022   तकनीकी शिक्षा विभाग भोपाल के उच्च कार्यालय से ...   \n",
       "160363  wwwmangaloreancom20yearoldstudentdiesafterbusr...   \n",
       "16378   due to network issuecaller voice was not audib...   \n",
       "148796                                              pgsat   \n",
       "...                                                   ...   \n",
       "64590   labour and employment  transfer related issues...   \n",
       "174159  central board of direct taxes income tax  dire...   \n",
       "28861   दवारका ज़िल्लाना  नायब ज़िल्ल्ला विकास अधिकारी...   \n",
       "111610  i am a widow and i am sending my written compl...   \n",
       "34350                      sadar preshit karywahi hetuuuu   \n",
       "\n",
       "                                minilm_embeddings_cleaned  \\\n",
       "171831  [-0.030974000692367554, 0.032949354499578476, ...   \n",
       "31022   [0.0010111008305102587, 0.031157847493886948, ...   \n",
       "160363  [0.03162650391459465, -0.016353311017155647, 0...   \n",
       "16378   [-0.017278095707297325, -0.025179877877235413,...   \n",
       "148796  [-0.02158086933195591, -0.023720789700746536, ...   \n",
       "...                                                   ...   \n",
       "64590   [-0.02575930580496788, -0.03641565889120102, -...   \n",
       "174159  [-0.03453265503048897, -0.008983409963548183, ...   \n",
       "28861   [-0.027166463434696198, 0.060572899878025055, ...   \n",
       "111610  [-0.024659985676407814, 0.04469205066561699, 0...   \n",
       "34350   [-0.06702282279729843, 0.15720179677009583, -0...   \n",
       "\n",
       "        minilm_embeddings_len  \n",
       "171831                    384  \n",
       "31022                     384  \n",
       "160363                    384  \n",
       "16378                     384  \n",
       "148796                    384  \n",
       "...                       ...  \n",
       "64590                     384  \n",
       "174159                    384  \n",
       "28861                     384  \n",
       "111610                    384  \n",
       "34350                     384  \n",
       "\n",
       "[174784 rows x 4 columns]"
      ]
     },
     "execution_count": 8,
     "metadata": {},
     "output_type": "execute_result"
    }
   ],
   "source": [
    "df"
   ]
  },
  {
   "cell_type": "code",
   "execution_count": null,
   "id": "c049166a",
   "metadata": {},
   "outputs": [],
   "source": []
  },
  {
   "cell_type": "code",
   "execution_count": 11,
   "id": "a8314e81",
   "metadata": {},
   "outputs": [],
   "source": [
    "df_18 = df[:15750]"
   ]
  },
  {
   "cell_type": "code",
   "execution_count": 12,
   "id": "2afd4567",
   "metadata": {},
   "outputs": [],
   "source": [
    "embeddings = np.array([\n",
    "    np.array(em) for em in list(df_18.minilm_embeddings_cleaned)\n",
    "])"
   ]
  },
  {
   "cell_type": "code",
   "execution_count": 13,
   "id": "506cdcd3",
   "metadata": {},
   "outputs": [
    {
     "data": {
      "text/plain": [
       "(15750, 384)"
      ]
     },
     "execution_count": 13,
     "metadata": {},
     "output_type": "execute_result"
    }
   ],
   "source": [
    "embeddings.shape"
   ]
  },
  {
   "cell_type": "code",
   "execution_count": null,
   "id": "1a26d1d6",
   "metadata": {},
   "outputs": [],
   "source": []
  },
  {
   "cell_type": "markdown",
   "id": "dc81d94f",
   "metadata": {},
   "source": [
    "# Clustering Modeling (Agglomerative)"
   ]
  },
  {
   "cell_type": "code",
   "execution_count": 14,
   "id": "bcc5f5f7",
   "metadata": {},
   "outputs": [],
   "source": [
    "from sklearn.cluster import AgglomerativeClustering\n",
    "from sklearn.metrics import silhouette_score, davies_bouldin_score"
   ]
  },
  {
   "cell_type": "code",
   "execution_count": 15,
   "id": "3e2f8d93",
   "metadata": {},
   "outputs": [],
   "source": [
    "n_clusters = list()\n",
    "silhouette_scores = list()\n",
    "davies_bouldin_scores = list()"
   ]
  },
  {
   "cell_type": "markdown",
   "id": "24f6819d",
   "metadata": {},
   "source": [
    "## Model 1"
   ]
  },
  {
   "cell_type": "code",
   "execution_count": 16,
   "id": "a9a7b609",
   "metadata": {},
   "outputs": [],
   "source": [
    "model_1 = AgglomerativeClustering(\n",
    "    n_clusters=4500,\n",
    "    linkage=\"ward\",\n",
    "    metric=\"euclidean\"\n",
    ")"
   ]
  },
  {
   "cell_type": "code",
   "execution_count": 18,
   "id": "3afd9f0f",
   "metadata": {},
   "outputs": [
    {
     "name": "stderr",
     "output_type": "stream",
     "text": [
      "/tmp/ipykernel_4915/3666578613.py:2: SettingWithCopyWarning: \n",
      "A value is trying to be set on a copy of a slice from a DataFrame.\n",
      "Try using .loc[row_indexer,col_indexer] = value instead\n",
      "\n",
      "See the caveats in the documentation: https://pandas.pydata.org/pandas-docs/stable/user_guide/indexing.html#returning-a-view-versus-a-copy\n",
      "  df_18[\"aggClustering_4500\"] = model_1.labels_\n"
     ]
    },
    {
     "data": {
      "text/html": [
       "<div>\n",
       "<style scoped>\n",
       "    .dataframe tbody tr th:only-of-type {\n",
       "        vertical-align: middle;\n",
       "    }\n",
       "\n",
       "    .dataframe tbody tr th {\n",
       "        vertical-align: top;\n",
       "    }\n",
       "\n",
       "    .dataframe thead th {\n",
       "        text-align: right;\n",
       "    }\n",
       "</style>\n",
       "<table border=\"1\" class=\"dataframe\">\n",
       "  <thead>\n",
       "    <tr style=\"text-align: right;\">\n",
       "      <th></th>\n",
       "      <th>_id</th>\n",
       "      <th>subject_content_text_cleaned</th>\n",
       "      <th>minilm_embeddings_cleaned</th>\n",
       "      <th>minilm_embeddings_len</th>\n",
       "      <th>aggClustering_4500</th>\n",
       "    </tr>\n",
       "  </thead>\n",
       "  <tbody>\n",
       "    <tr>\n",
       "      <th>171831</th>\n",
       "      <td>PMOPG/D/2023/0023139</td>\n",
       "      <td>frank</td>\n",
       "      <td>[-0.030974000692367554, 0.032949354499578476, ...</td>\n",
       "      <td>384</td>\n",
       "      <td>2624</td>\n",
       "    </tr>\n",
       "    <tr>\n",
       "      <th>31022</th>\n",
       "      <td>MOSJE/E/2023/0000087</td>\n",
       "      <td>तकनीकी शिक्षा विभाग भोपाल के उच्च कार्यालय से ...</td>\n",
       "      <td>[0.0010111008305102587, 0.031157847493886948, ...</td>\n",
       "      <td>384</td>\n",
       "      <td>3810</td>\n",
       "    </tr>\n",
       "    <tr>\n",
       "      <th>160363</th>\n",
       "      <td>PMOPG/E/2023/0025351</td>\n",
       "      <td>wwwmangaloreancom20yearoldstudentdiesafterbusr...</td>\n",
       "      <td>[0.03162650391459465, -0.016353311017155647, 0...</td>\n",
       "      <td>384</td>\n",
       "      <td>3795</td>\n",
       "    </tr>\n",
       "  </tbody>\n",
       "</table>\n",
       "</div>"
      ],
      "text/plain": [
       "                         _id  \\\n",
       "171831  PMOPG/D/2023/0023139   \n",
       "31022   MOSJE/E/2023/0000087   \n",
       "160363  PMOPG/E/2023/0025351   \n",
       "\n",
       "                             subject_content_text_cleaned  \\\n",
       "171831                                              frank   \n",
       "31022   तकनीकी शिक्षा विभाग भोपाल के उच्च कार्यालय से ...   \n",
       "160363  wwwmangaloreancom20yearoldstudentdiesafterbusr...   \n",
       "\n",
       "                                minilm_embeddings_cleaned  \\\n",
       "171831  [-0.030974000692367554, 0.032949354499578476, ...   \n",
       "31022   [0.0010111008305102587, 0.031157847493886948, ...   \n",
       "160363  [0.03162650391459465, -0.016353311017155647, 0...   \n",
       "\n",
       "        minilm_embeddings_len  aggClustering_4500  \n",
       "171831                    384                2624  \n",
       "31022                     384                3810  \n",
       "160363                    384                3795  "
      ]
     },
     "execution_count": 18,
     "metadata": {},
     "output_type": "execute_result"
    }
   ],
   "source": [
    "res_1 = model_1.fit_predict(embeddings)\n",
    "df_18[\"aggClustering_4500\"] = model_1.labels_\n",
    "df_18.head(3)"
   ]
  },
  {
   "cell_type": "code",
   "execution_count": 19,
   "id": "8ae8da16",
   "metadata": {},
   "outputs": [
    {
     "name": "stderr",
     "output_type": "stream",
     "text": [
      "/home/kushalbellani18/.local/lib/python3.11/site-packages/sklearn/utils/extmath.py:208: RuntimeWarning: invalid value encountered in matmul\n",
      "  ret = a @ b\n"
     ]
    }
   ],
   "source": [
    "from sklearn.metrics import silhouette_score, davies_bouldin_score\n",
    "\n",
    "sil = silhouette_score(embeddings, model_1.labels_)\n",
    "db = davies_bouldin_score(embeddings, model_1.labels_)"
   ]
  },
  {
   "cell_type": "code",
   "execution_count": 20,
   "id": "a5de7ed3",
   "metadata": {},
   "outputs": [],
   "source": [
    "n_clusters.append(4500)\n",
    "silhouette_scores.append(sil)\n",
    "davies_bouldin_scores.append(db)"
   ]
  },
  {
   "cell_type": "code",
   "execution_count": 21,
   "id": "4f56ca33",
   "metadata": {},
   "outputs": [
    {
     "data": {
      "text/plain": [
       "(0.2832914562101908, 1.0492001168136391)"
      ]
     },
     "execution_count": 21,
     "metadata": {},
     "output_type": "execute_result"
    }
   ],
   "source": [
    "sil, db"
   ]
  },
  {
   "cell_type": "markdown",
   "id": "2a967935",
   "metadata": {},
   "source": [
    "# Model 2"
   ]
  },
  {
   "cell_type": "code",
   "execution_count": 22,
   "id": "5242d31d",
   "metadata": {},
   "outputs": [],
   "source": [
    "model_2 = AgglomerativeClustering(\n",
    "    n_clusters=8700,\n",
    "    linkage=\"ward\",\n",
    "    metric=\"euclidean\"\n",
    ")"
   ]
  },
  {
   "cell_type": "code",
   "execution_count": 23,
   "id": "d2be83fd",
   "metadata": {},
   "outputs": [
    {
     "name": "stderr",
     "output_type": "stream",
     "text": [
      "/tmp/ipykernel_4915/2020128371.py:2: SettingWithCopyWarning: \n",
      "A value is trying to be set on a copy of a slice from a DataFrame.\n",
      "Try using .loc[row_indexer,col_indexer] = value instead\n",
      "\n",
      "See the caveats in the documentation: https://pandas.pydata.org/pandas-docs/stable/user_guide/indexing.html#returning-a-view-versus-a-copy\n",
      "  df_18[\"aggClustering_8700\"] = model_2.labels_\n"
     ]
    },
    {
     "data": {
      "text/html": [
       "<div>\n",
       "<style scoped>\n",
       "    .dataframe tbody tr th:only-of-type {\n",
       "        vertical-align: middle;\n",
       "    }\n",
       "\n",
       "    .dataframe tbody tr th {\n",
       "        vertical-align: top;\n",
       "    }\n",
       "\n",
       "    .dataframe thead th {\n",
       "        text-align: right;\n",
       "    }\n",
       "</style>\n",
       "<table border=\"1\" class=\"dataframe\">\n",
       "  <thead>\n",
       "    <tr style=\"text-align: right;\">\n",
       "      <th></th>\n",
       "      <th>_id</th>\n",
       "      <th>subject_content_text_cleaned</th>\n",
       "      <th>minilm_embeddings_cleaned</th>\n",
       "      <th>minilm_embeddings_len</th>\n",
       "      <th>aggClustering_4500</th>\n",
       "      <th>aggClustering_8700</th>\n",
       "    </tr>\n",
       "  </thead>\n",
       "  <tbody>\n",
       "    <tr>\n",
       "      <th>171831</th>\n",
       "      <td>PMOPG/D/2023/0023139</td>\n",
       "      <td>frank</td>\n",
       "      <td>[-0.030974000692367554, 0.032949354499578476, ...</td>\n",
       "      <td>384</td>\n",
       "      <td>2624</td>\n",
       "      <td>2624</td>\n",
       "    </tr>\n",
       "    <tr>\n",
       "      <th>31022</th>\n",
       "      <td>MOSJE/E/2023/0000087</td>\n",
       "      <td>तकनीकी शिक्षा विभाग भोपाल के उच्च कार्यालय से ...</td>\n",
       "      <td>[0.0010111008305102587, 0.031157847493886948, ...</td>\n",
       "      <td>384</td>\n",
       "      <td>3810</td>\n",
       "      <td>951</td>\n",
       "    </tr>\n",
       "    <tr>\n",
       "      <th>160363</th>\n",
       "      <td>PMOPG/E/2023/0025351</td>\n",
       "      <td>wwwmangaloreancom20yearoldstudentdiesafterbusr...</td>\n",
       "      <td>[0.03162650391459465, -0.016353311017155647, 0...</td>\n",
       "      <td>384</td>\n",
       "      <td>3795</td>\n",
       "      <td>7591</td>\n",
       "    </tr>\n",
       "    <tr>\n",
       "      <th>16378</th>\n",
       "      <td>GOVAS/I/2023/0000848</td>\n",
       "      <td>due to network issuecaller voice was not audib...</td>\n",
       "      <td>[-0.017278095707297325, -0.025179877877235413,...</td>\n",
       "      <td>384</td>\n",
       "      <td>4015</td>\n",
       "      <td>2007</td>\n",
       "    </tr>\n",
       "  </tbody>\n",
       "</table>\n",
       "</div>"
      ],
      "text/plain": [
       "                         _id  \\\n",
       "171831  PMOPG/D/2023/0023139   \n",
       "31022   MOSJE/E/2023/0000087   \n",
       "160363  PMOPG/E/2023/0025351   \n",
       "16378   GOVAS/I/2023/0000848   \n",
       "\n",
       "                             subject_content_text_cleaned  \\\n",
       "171831                                              frank   \n",
       "31022   तकनीकी शिक्षा विभाग भोपाल के उच्च कार्यालय से ...   \n",
       "160363  wwwmangaloreancom20yearoldstudentdiesafterbusr...   \n",
       "16378   due to network issuecaller voice was not audib...   \n",
       "\n",
       "                                minilm_embeddings_cleaned  \\\n",
       "171831  [-0.030974000692367554, 0.032949354499578476, ...   \n",
       "31022   [0.0010111008305102587, 0.031157847493886948, ...   \n",
       "160363  [0.03162650391459465, -0.016353311017155647, 0...   \n",
       "16378   [-0.017278095707297325, -0.025179877877235413,...   \n",
       "\n",
       "        minilm_embeddings_len  aggClustering_4500  aggClustering_8700  \n",
       "171831                    384                2624                2624  \n",
       "31022                     384                3810                 951  \n",
       "160363                    384                3795                7591  \n",
       "16378                     384                4015                2007  "
      ]
     },
     "execution_count": 23,
     "metadata": {},
     "output_type": "execute_result"
    }
   ],
   "source": [
    "res_2 = model_2.fit_predict(embeddings)\n",
    "df_18[\"aggClustering_8700\"] = model_2.labels_\n",
    "\n",
    "df_18.head(4)"
   ]
  },
  {
   "cell_type": "code",
   "execution_count": 24,
   "id": "219042b7",
   "metadata": {},
   "outputs": [
    {
     "name": "stderr",
     "output_type": "stream",
     "text": [
      "/home/kushalbellani18/.local/lib/python3.11/site-packages/sklearn/utils/extmath.py:208: RuntimeWarning: invalid value encountered in matmul\n",
      "  ret = a @ b\n"
     ]
    }
   ],
   "source": [
    "sil = silhouette_score(embeddings, model_2.labels_)\n",
    "db = davies_bouldin_score(embeddings, model_2.labels_)\n",
    "\n",
    "n_clusters.append(8700)\n",
    "silhouette_scores.append(sil)\n",
    "davies_bouldin_scores.append(db)"
   ]
  },
  {
   "cell_type": "code",
   "execution_count": 25,
   "id": "b989e48c",
   "metadata": {},
   "outputs": [
    {
     "data": {
      "text/plain": [
       "(0.29008489838595214, 0.46175818616413294)"
      ]
     },
     "execution_count": 25,
     "metadata": {},
     "output_type": "execute_result"
    }
   ],
   "source": [
    "sil, db"
   ]
  },
  {
   "cell_type": "code",
   "execution_count": null,
   "id": "843feebe",
   "metadata": {},
   "outputs": [],
   "source": []
  },
  {
   "cell_type": "markdown",
   "id": "cc474b4a",
   "metadata": {},
   "source": [
    "# Model 3"
   ]
  },
  {
   "cell_type": "code",
   "execution_count": null,
   "id": "7e872da8",
   "metadata": {},
   "outputs": [],
   "source": [
    "model_3 = AgglomerativeClustering(\n",
    "    n_clusters=6900,\n",
    "    linkage=\"ward\",\n",
    "    metric=\"euclidean\"\n",
    ")"
   ]
  },
  {
   "cell_type": "code",
   "execution_count": null,
   "id": "c6211ac3",
   "metadata": {},
   "outputs": [],
   "source": [
    "res_3 = model_3.fit_predict(embeddings)\n",
    "df_18[\"aggClustering_6900\"] = model_3.labels_\n",
    "\n",
    "df_18.head(4)"
   ]
  },
  {
   "cell_type": "code",
   "execution_count": null,
   "id": "60a690c8",
   "metadata": {},
   "outputs": [],
   "source": [
    "sil = silhouette_score(embeddings, model_3.labels_)\n",
    "db = davies_bouldin_score(embeddings, model_3.labels_)\n",
    "\n",
    "n_clusters.append(720)\n",
    "silhouette_scores.append(sil)\n",
    "davies_bouldin_scores.append(db)"
   ]
  },
  {
   "cell_type": "code",
   "execution_count": null,
   "id": "b1fb108e",
   "metadata": {},
   "outputs": [],
   "source": [
    "sil, db"
   ]
  },
  {
   "cell_type": "code",
   "execution_count": null,
   "id": "0ceacf0f",
   "metadata": {},
   "outputs": [],
   "source": []
  },
  {
   "cell_type": "code",
   "execution_count": null,
   "id": "a5f87fd0",
   "metadata": {},
   "outputs": [],
   "source": []
  },
  {
   "cell_type": "code",
   "execution_count": 26,
   "id": "588712f4",
   "metadata": {},
   "outputs": [],
   "source": [
    "sources_df = pd.DataFrame({\"n_clusters\": n_clusters, \"silhouette scores\": silhouette_scores, \"davies_bouldin_scores\": davies_bouldin_scores})"
   ]
  },
  {
   "cell_type": "code",
   "execution_count": 27,
   "id": "0e85b7a9",
   "metadata": {},
   "outputs": [
    {
     "data": {
      "text/html": [
       "<div>\n",
       "<style scoped>\n",
       "    .dataframe tbody tr th:only-of-type {\n",
       "        vertical-align: middle;\n",
       "    }\n",
       "\n",
       "    .dataframe tbody tr th {\n",
       "        vertical-align: top;\n",
       "    }\n",
       "\n",
       "    .dataframe thead th {\n",
       "        text-align: right;\n",
       "    }\n",
       "</style>\n",
       "<table border=\"1\" class=\"dataframe\">\n",
       "  <thead>\n",
       "    <tr style=\"text-align: right;\">\n",
       "      <th></th>\n",
       "      <th>n_clusters</th>\n",
       "      <th>silhouette scores</th>\n",
       "      <th>davies_bouldin_scores</th>\n",
       "    </tr>\n",
       "  </thead>\n",
       "  <tbody>\n",
       "    <tr>\n",
       "      <th>0</th>\n",
       "      <td>4500</td>\n",
       "      <td>0.283291</td>\n",
       "      <td>1.049200</td>\n",
       "    </tr>\n",
       "    <tr>\n",
       "      <th>1</th>\n",
       "      <td>8700</td>\n",
       "      <td>0.290085</td>\n",
       "      <td>0.461758</td>\n",
       "    </tr>\n",
       "  </tbody>\n",
       "</table>\n",
       "</div>"
      ],
      "text/plain": [
       "   n_clusters  silhouette scores  davies_bouldin_scores\n",
       "0        4500           0.283291               1.049200\n",
       "1        8700           0.290085               0.461758"
      ]
     },
     "execution_count": 27,
     "metadata": {},
     "output_type": "execute_result"
    }
   ],
   "source": [
    "sources_df"
   ]
  },
  {
   "cell_type": "code",
   "execution_count": null,
   "id": "a668f043",
   "metadata": {},
   "outputs": [],
   "source": []
  },
  {
   "cell_type": "code",
   "execution_count": null,
   "id": "12f19f03",
   "metadata": {},
   "outputs": [],
   "source": []
  },
  {
   "cell_type": "markdown",
   "id": "ed398ea4",
   "metadata": {},
   "source": [
    "# Add to google sheets"
   ]
  },
  {
   "cell_type": "code",
   "execution_count": 28,
   "id": "abb55ca8",
   "metadata": {
    "scrolled": true
   },
   "outputs": [],
   "source": [
    "import pygsheets\n",
    "gc = pygsheets.authorize(service_file=\"API/gSheet.json\")\n",
    "url = \"https://docs.google.com/spreadsheets/d/16xf0r0qA2UJGa348M8KzfGRdYBtcg1LykduW_WrC0RE/edit#gid=0\""
   ]
  },
  {
   "cell_type": "code",
   "execution_count": 30,
   "id": "a6cf9fe9",
   "metadata": {
    "scrolled": true
   },
   "outputs": [
    {
     "name": "stderr",
     "output_type": "stream",
     "text": [
      "/home/kushalbellani18/.local/lib/python3.11/site-packages/pygsheets/worksheet.py:1430: SettingWithCopyWarning: \n",
      "A value is trying to be set on a copy of a slice from a DataFrame.\n",
      "Try using .loc[row_indexer,col_indexer] = value instead\n",
      "\n",
      "See the caveats in the documentation: https://pandas.pydata.org/pandas-docs/stable/user_guide/indexing.html#returning-a-view-versus-a-copy\n",
      "  df[col] = df[col].astype('unicode').replace('<NA>', nan)\n",
      "/home/kushalbellani18/.local/lib/python3.11/site-packages/pygsheets/worksheet.py:1430: SettingWithCopyWarning: \n",
      "A value is trying to be set on a copy of a slice from a DataFrame.\n",
      "Try using .loc[row_indexer,col_indexer] = value instead\n",
      "\n",
      "See the caveats in the documentation: https://pandas.pydata.org/pandas-docs/stable/user_guide/indexing.html#returning-a-view-versus-a-copy\n",
      "  df[col] = df[col].astype('unicode').replace('<NA>', nan)\n"
     ]
    }
   ],
   "source": [
    "sh = gc.open_by_url(url)\n",
    "\n",
    "wks = sh.worksheet_by_title(\"Res_15k_part_2\")\n",
    "wks.set_dataframe(df_18[[\"_id\", \"subject_content_text_cleaned\", \"aggClustering_4500\", \"aggClustering_8700\"]], (1, 1))"
   ]
  },
  {
   "cell_type": "code",
   "execution_count": null,
   "id": "3c51730d",
   "metadata": {},
   "outputs": [],
   "source": []
  }
 ],
 "metadata": {
  "kernelspec": {
   "display_name": "Python 3 (ipykernel)",
   "language": "python",
   "name": "python3"
  },
  "language_info": {
   "codemirror_mode": {
    "name": "ipython",
    "version": 3
   },
   "file_extension": ".py",
   "mimetype": "text/x-python",
   "name": "python",
   "nbconvert_exporter": "python",
   "pygments_lexer": "ipython3",
   "version": "3.11.6"
  }
 },
 "nbformat": 4,
 "nbformat_minor": 5
}
